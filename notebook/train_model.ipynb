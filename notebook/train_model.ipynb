{
 "cells": [
  {
   "cell_type": "code",
   "execution_count": 17,
   "id": "d2544ecc",
   "metadata": {},
   "outputs": [],
   "source": [
    "import numpy as np\n",
    "\n",
    "def sigmoid(w, x, b):\n",
    "    return 1 / np.exp(np.dot(w, x) + b)\n",
    "\n",
    "def compute_cost(y, y_hat):\n",
    "    return -y * np.log10(y_hat) - (1 - y) * np.log10(1 - y_hat)\n",
    "\n",
    "def compute_loss(y, y_hat):\n",
    "    m = len(y)\n",
    "    loss = 0\n",
    "    for i in range(m):\n",
    "        loss += compute_cost(y[i], y_hat[i])\n",
    "    return loss / m\n",
    "\n",
    "def compute_gradient(w, X, b, y):\n",
    "    m = len(y)\n",
    "    gradient_w = 0\n",
    "    gradient_b = 0\n",
    "    for i in range(m):\n",
    "        y_hat = sigmoid(w, X[i], b)\n",
    "        gradient_w += (y_hat - y[i]) * X[i]\n",
    "        gradient_b += y_hat - y[i]\n",
    "    return gradient_w / m, gradient_b / m\n",
    "\n",
    "def train_lrgd(X, y, alpha, round):\n",
    "    m, n = X.shape\n",
    "    print(m, n)\n",
    "    w = np.round(np.random.rand(n) * 100, 2)\n",
    "    print(w)\n",
    "    # for _ in range(round):"
   ]
  },
  {
   "cell_type": "code",
   "execution_count": 18,
   "id": "38148581",
   "metadata": {},
   "outputs": [
    {
     "name": "stdout",
     "output_type": "stream",
     "text": [
      "10000 28\n",
      "[89.23  2.4  52.43 43.66  2.43  3.69 65.77 92.48 61.71 29.87 49.43 81.7\n",
      " 62.96 64.31 42.69 11.62 82.53 13.46  7.98 29.49 92.35 25.22 41.07 64.26\n",
      " 13.13  5.85 38.74 62.21]\n"
     ]
    }
   ],
   "source": [
    "import pandas as pd\n",
    "\n",
    "df = pd.read_csv(\"../data/features.csv\")\n",
    "X = df.drop(\"Exited\", axis=1)\n",
    "y = df[\"Exited\"]\n",
    "train_lrgd(X, y, 0.1, 100)"
   ]
  },
  {
   "cell_type": "code",
   "execution_count": null,
   "id": "b500fe48",
   "metadata": {},
   "outputs": [],
   "source": []
  }
 ],
 "metadata": {
  "kernelspec": {
   "display_name": ".env",
   "language": "python",
   "name": "python3"
  },
  "language_info": {
   "codemirror_mode": {
    "name": "ipython",
    "version": 3
   },
   "file_extension": ".py",
   "mimetype": "text/x-python",
   "name": "python",
   "nbconvert_exporter": "python",
   "pygments_lexer": "ipython3",
   "version": "3.12.3"
  }
 },
 "nbformat": 4,
 "nbformat_minor": 5
}
