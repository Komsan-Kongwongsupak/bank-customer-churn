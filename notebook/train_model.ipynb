{
 "cells": [
  {
   "cell_type": "code",
   "execution_count": null,
   "id": "0e99f282",
   "metadata": {},
   "outputs": [],
   "source": [
    "import numpy as np\n",
    "import pandas as pd\n",
    "\n",
    "class LogisticRegressionSGD:\n",
    "    def __init__(self):\n",
    "        self.w = 0.0\n",
    "        self.b = 0.0\n",
    "        self.loss_history = []\n",
    "\n",
    "    def sigmoid(self, z):\n",
    "        return 1 / (1 + np.exp(-z))\n",
    "\n",
    "    def compute_loss(self, y, y_hat):\n",
    "        y_hat = np.clip(y_hat, 1e-15, 1 - 1e-15)\n",
    "        return -np.mean(y * np.log(y_hat) + (1 - y) * np.log(1 - y_hat))\n",
    "\n",
    "    def compute_gradient(self, X, y):\n",
    "        m = len(y)\n",
    "        y_hat = self.sigmoid(np.dot(X, self.w) + self.b)\n",
    "        error = y_hat - y\n",
    "        gradient_w = np.dot(X.T, error) / m\n",
    "        gradient_b = np.sum(error) / m\n",
    "        return gradient_w, gradient_b\n",
    "\n",
    "    def train(self, X, y, alpha=0.01, num_rounds=1000):\n",
    "        if isinstance(X, pd.DataFrame):\n",
    "            X = X.values\n",
    "        if isinstance(y, pd.DataFrame):\n",
    "            y = y.values.flatten()\n",
    "\n",
    "        n = X.shape[1]\n",
    "        self.w = np.zeros(n)\n",
    "\n",
    "        for _ in range(num_rounds):\n",
    "            gradient_w, gradient_b = self.compute_gradient(X, y)\n",
    "            self.w -= alpha * gradient_w\n",
    "            self.b -= alpha * gradient_b\n",
    "            y_hat = self.predict_proba(X)\n",
    "            self.loss_history.append(self.compute_loss(y, y_hat))\n",
    "\n",
    "        return self\n",
    "    \n",
    "    def predict_proba(self, X):\n",
    "        return self.sigmoid(np.dot(X, self.w) + self.b)\n",
    "\n",
    "    def predict(self, X):\n",
    "        return np.array([int(p >= 0.5) for p in self.predict_proba(X)])"
   ]
  },
  {
   "cell_type": "code",
   "execution_count": 151,
   "id": "38148581",
   "metadata": {},
   "outputs": [],
   "source": [
    "from sklearn.model_selection import train_test_split\n",
    "\n",
    "df = pd.read_csv(\"../data/features.csv\")\n",
    "df_train, df_test = train_test_split(df, test_size=0.2, stratify=df[[\"Gender\", \"France\", \"Germany\", \"Spain\"]], random_state=42)\n",
    "\n",
    "X_train = df_train.drop([\"CustomerId\", \"Exited\"], axis=1)\n",
    "y_train = df_train[\"Exited\"]\n",
    "X_test = df_test.drop([\"CustomerId\", \"Exited\"], axis=1)\n",
    "y_test = df_test[\"Exited\"]"
   ]
  },
  {
   "cell_type": "code",
   "execution_count": 152,
   "id": "a49fcbfe",
   "metadata": {},
   "outputs": [
    {
     "data": {
      "text/plain": [
       "[<matplotlib.lines.Line2D at 0x75e471921eb0>]"
      ]
     },
     "execution_count": 152,
     "metadata": {},
     "output_type": "execute_result"
    },
    {
     "data": {
      "image/png": "[encoded data removed]",
      "text/plain": [
       "<Figure size 640x480 with 1 Axes>"
      ]
     },
     "metadata": {},
     "output_type": "display_data"
    }
   ],
   "source": [
    "import matplotlib.pyplot as plt\n",
    "%matplotlib inline\n",
    "\n",
    "alphas = [0.01, 0.1, 1]\n",
    "loss_log = {}\n",
    "for alpha in alphas:\n",
    "    lrsgd = LogisticRegressionSGD()\n",
    "    lrsgd_model = lrsgd.train(X_train, y_train, alpha, 10000)\n",
    "    loss_log[alpha] = lrsgd_model.loss_history\n",
    "\n",
    "plt.plot(loss_log[0.01], \"b\")\n",
    "plt.plot(loss_log[0.1], \"y\")\n",
    "plt.plot(loss_log[1], \"r\")"
   ]
  },
  {
   "cell_type": "code",
   "execution_count": 153,
   "id": "a9d9314f",
   "metadata": {},
   "outputs": [
    {
     "data": {
      "text/plain": [
       "0.9987261146496815"
      ]
     },
     "execution_count": 153,
     "metadata": {},
     "output_type": "execute_result"
    }
   ],
   "source": [
    "from sklearn.metrics import f1_score\n",
    "\n",
    "lrsgd = LogisticRegressionSGD()\n",
    "lrsgd_model = lrsgd.train(X_train, y_train, 0.1, 10000)\n",
    "y_hat = lrsgd_model.predict(X_test)\n",
    "f1_score(y_test, y_hat)"
   ]
  },
  {
   "cell_type": "code",
   "execution_count": null,
   "id": "a6b772b8",
   "metadata": {},
   "outputs": [],
   "source": []
  }
 ],
 "metadata": {
  "kernelspec": {
   "display_name": ".env",
   "language": "python",
   "name": "python3"
  },
  "language_info": {
   "codemirror_mode": {
    "name": "ipython",
    "version": 3
   },
   "file_extension": ".py",
   "mimetype": "text/x-python",
   "name": "python",
   "nbconvert_exporter": "python",
   "pygments_lexer": "ipython3",
   "version": "3.12.3"
  }
 },
 "nbformat": 4,
 "nbformat_minor": 5
}
